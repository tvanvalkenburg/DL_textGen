{
 "cells": [
  {
   "cell_type": "markdown",
   "metadata": {
    "colab_type": "text",
    "id": "gBB0ib-qQu9h"
   },
   "source": [
    "Final Assignment\n",
    "\n",
    "Taylor van Valkenburg (vanvalk2)\n",
    "\n",
    "SCS-3546\n",
    "\n",
    "University of Toronto"
   ]
  },
  {
   "cell_type": "markdown",
   "metadata": {
    "colab_type": "text",
    "id": "wpAO5jkLNHwZ"
   },
   "source": [
    "<H1>\n",
    "Outline\n",
    "</H1>\n",
    "\n",
    "<p>\n",
    "The purpose of this notebook is to review the effects of different model architectures on the task of text generation.\n",
    "\n",
    "The models below will all use the complete works of the Brothers Grimm downloaded from project Gutenberg as training data. The goal of the models is to generate new text in this style - to create synthetic fairytales.\n",
    "\n",
    "Four models will be built and trained below. They are:\n",
    "\n",
    "i) a character level LSTM model encoded with unique integers.\n",
    "\n",
    "ii) a character level LSTM model encoded with unique integers, with an added attention layer\n",
    "\n",
    "iii) a word level LSTM model encoded with Keras' embedding layer\n",
    "\n",
    "iv) a word level LSTM model encoded with Keras' embedding layer, with an added attention layer"
   ]
  },
  {
   "cell_type": "markdown",
   "metadata": {
    "colab_type": "text",
    "id": "L-ipYKcqmF6Q"
   },
   "source": [
    "<H2>\n",
    "Section I - imports and data loading\n",
    "</H2>"
   ]
  },
  {
   "cell_type": "code",
   "execution_count": 15,
   "metadata": {
    "colab": {
     "base_uri": "https://localhost:8080/",
     "height": 35
    },
    "colab_type": "code",
    "executionInfo": {
     "elapsed": 397,
     "status": "ok",
     "timestamp": 1575405456308,
     "user": {
      "displayName": "John Doe",
      "photoUrl": "",
      "userId": "02887734704181177763"
     },
     "user_tz": 300
    },
    "id": "aASxyGS1K8rt",
    "outputId": "83d2bde5-e566-43df-884d-35901c88a744"
   },
   "outputs": [
    {
     "name": "stdout",
     "output_type": "stream",
     "text": [
      "Drive already mounted at /content/drive; to attempt to forcibly remount, call drive.mount(\"/content/drive\", force_remount=True).\n"
     ]
    }
   ],
   "source": [
    "#mount drive\n",
    "from google.colab import drive\n",
    "drive.mount('/content/drive')"
   ]
  },
  {
   "cell_type": "code",
   "execution_count": 0,
   "metadata": {
    "colab": {},
    "colab_type": "code",
    "id": "2FRj5REHyXLI"
   },
   "outputs": [],
   "source": [
    "#general imports\n",
    "import os\n",
    "import re\n",
    "import wordcloud\n",
    "import numpy as np\n",
    "import pandas as pd\n",
    "import tensorflow as tf\n",
    "import matplotlib.pyplot as plt\n",
    "\n",
    "#keras imports\n",
    "import keras\n",
    "import keras.backend as K\n",
    "from keras.layers import Layer, Dropout, Embedding, Dense, LSTM\n",
    "from keras.utils import np_utils, to_categorical\n",
    "from keras.models import Sequential, Model, load_model\n",
    "from keras.callbacks import EarlyStopping, ModelCheckpoint\n",
    "from keras.preprocessing.text import Tokenizer"
   ]
  },
  {
   "cell_type": "code",
   "execution_count": 0,
   "metadata": {
    "colab": {},
    "colab_type": "code",
    "id": "0_aA8uEtLLuZ"
   },
   "outputs": [],
   "source": [
    "#set directories\n",
    "indir = '/content/drive/My Drive/School/DL/Assignments/Final/'\n",
    "moddir = '/content/drive/My Drive/School/DL/Assignments/Final/models/'"
   ]
  },
  {
   "cell_type": "code",
   "execution_count": 0,
   "metadata": {
    "colab": {},
    "colab_type": "code",
    "id": "H6v5ELsascAh"
   },
   "outputs": [],
   "source": [
    "#load data\n",
    "raw = open(os.path.join(indir + 'brothers_grimm.txt'),\n",
    "             'r',\n",
    "             encoding='latin-1').read()"
   ]
  },
  {
   "cell_type": "code",
   "execution_count": 0,
   "metadata": {
    "colab": {},
    "colab_type": "code",
    "id": "8Z95jfzOul5-"
   },
   "outputs": [],
   "source": [
    "#force text to lower case\n",
    "raw_low = raw.lower()"
   ]
  },
  {
   "cell_type": "markdown",
   "metadata": {
    "colab_type": "text",
    "id": "vEx2wfatTjrA"
   },
   "source": [
    "<H2>\n",
    "Exploratory data analysis\n",
    "</H2>"
   ]
  },
  {
   "cell_type": "code",
   "execution_count": 6,
   "metadata": {
    "colab": {
     "base_uri": "https://localhost:8080/",
     "height": 90
    },
    "colab_type": "code",
    "executionInfo": {
     "elapsed": 431,
     "status": "ok",
     "timestamp": 1575403672788,
     "user": {
      "displayName": "John Doe",
      "photoUrl": "",
      "userId": "02887734704181177763"
     },
     "user_tz": 300
    },
    "id": "O-mcIMnQV-hs",
    "outputId": "2bf14448-8934-41ae-a70a-a87f8ffa4220"
   },
   "outputs": [
    {
     "name": "stdout",
     "output_type": "stream",
     "text": [
      "there are 100651 words in the source data\n",
      "there are 9698 unique words in the source data\n",
      "there are 48 unique characters in the source data\n",
      "unique words make up 0.09635274363891069 of the dataset\n"
     ]
    }
   ],
   "source": [
    "#find the number of unique words in the text\n",
    "n_words = len(raw_low.split())\n",
    "n_unique_words = len(set(raw_low.split()))\n",
    "n_chars = len(set(raw_low))\n",
    "\n",
    "print('there are {} words in the source data'.format(n_words))\n",
    "print('there are {} unique words in the source data'.format(n_unique_words))\n",
    "print('there are {} unique characters in the source data'.format(n_chars))\n",
    "print('unique words make up {} of the dataset'.format(n_unique_words / n_words))"
   ]
  },
  {
   "cell_type": "code",
   "execution_count": 14,
   "metadata": {
    "colab": {
     "base_uri": "https://localhost:8080/",
     "height": 198
    },
    "colab_type": "code",
    "executionInfo": {
     "elapsed": 1056,
     "status": "ok",
     "timestamp": 1575403745051,
     "user": {
      "displayName": "John Doe",
      "photoUrl": "",
      "userId": "02887734704181177763"
     },
     "user_tz": 300
    },
    "id": "aGPDSRCLXEEQ",
    "outputId": "bc317a90-5070-4f5c-ae50-a439c9a76f20"
   },
   "outputs": [
    {
     "data": {
      "image/png": "[encoded data removed]",
      "text/plain": [
       "<Figure size 432x288 with 1 Axes>"
      ]
     },
     "metadata": {
      "tags": []
     },
     "output_type": "display_data"
    }
   ],
   "source": [
    "#create word cloud to get an idea of the dataset\n",
    "wc = wordcloud.WordCloud(max_font_size=50, \n",
    "                         max_words=100, \n",
    "                         background_color='grey').generate(raw_low)\n",
    "\n",
    "plt.imshow(wc, interpolation='bilinear')\n",
    "plt.axis('off')\n",
    "plt.show()"
   ]
  },
  {
   "cell_type": "markdown",
   "metadata": {
    "colab_type": "text",
    "id": "hfvgEoeERg2u"
   },
   "source": [
    "<H2>\n",
    "Section II - models\n",
    "</H2>"
   ]
  },
  {
   "cell_type": "markdown",
   "metadata": {
    "colab_type": "text",
    "id": "95jV0Og-Pmhi"
   },
   "source": [
    "<H3>\n",
    "LSTM Model - Integer encoding\n",
    "</H3>\n",
    "\n",
    "This is a character level model that encodes the characters with unique integers, rather than with word embeddings."
   ]
  },
  {
   "cell_type": "code",
   "execution_count": 0,
   "metadata": {
    "colab": {},
    "colab_type": "code",
    "id": "28mO6fr48TWn"
   },
   "outputs": [],
   "source": [
    "#define preprocessing function\n",
    "def make_token_arrays(seq_length, text, chars):\n",
    "  X_list = []\n",
    "  y_list = []\n",
    "\n",
    "  for i in range(0, len(text) - seq_length, 1):\n",
    "    seq_in = text[i: i + seq_length]\n",
    "    seq_out = text[i + seq_length]\n",
    "    X_list.append([char_to_int[char] for char in seq_in])\n",
    "    y_list.append(char_to_int[seq_out])\n",
    "\n",
    "  X_mod = np.reshape(X_list, (len(X_list), seq_length, 1))\n",
    "  X_mod = X_mod / float(len(chars))\n",
    "  \n",
    "  y_mod = np_utils.to_categorical(y_list)\n",
    "\n",
    "  X_i = np.array(X_mod)\n",
    "  y_i = np.array(y_mod)\n",
    "\n",
    "  return X_i, y_i, X_list, y_list"
   ]
  },
  {
   "cell_type": "code",
   "execution_count": 0,
   "metadata": {
    "colab": {},
    "colab_type": "code",
    "id": "zcqiqCP-OxYV"
   },
   "outputs": [],
   "source": [
    "#preprocess the text data\n",
    "seq_length_i = 100\n",
    "\n",
    "chars = sorted(list(set(raw_low)))\n",
    "char_to_int = dict((c, i) for i, c in enumerate(chars))\n",
    "int_to_char = {n:char for n, char in enumerate(chars)}\n",
    "\n",
    "X_i, y_i, X_list, y_list = make_token_arrays(seq_length_i, raw_low, chars)\n"
   ]
  },
  {
   "cell_type": "code",
   "execution_count": 0,
   "metadata": {
    "colab": {},
    "colab_type": "code",
    "id": "2oNhlgHrRnHW"
   },
   "outputs": [],
   "source": [
    "#define model architecture\n",
    "n_neurons = 512\n",
    "input_size_1 = X_i.shape[1]\n",
    "input_size_2 = X_i.shape[2]\n",
    "output_size = y_i.shape[1]\n",
    "\n",
    "m_lstm_i = Sequential()\n",
    "\n",
    "m_lstm_i.add(LSTM(n_neurons, \n",
    "                  input_shape=(input_size_1, input_size_2), \n",
    "                  return_sequences=True))\n",
    "\n",
    "m_lstm_i.add(Dropout(0.25))\n",
    "m_lstm_i.add(LSTM(n_neurons, return_sequences=True))\n",
    "m_lstm_i.add(Dropout(0.25))\n",
    "m_lstm_i.add(LSTM(n_neurons, return_sequences=False))\n",
    "m_lstm_i.add(Dropout(0.25))\n",
    "m_lstm_i.add(Dense(output_size, activation='softmax'))\n"
   ]
  },
  {
   "cell_type": "code",
   "execution_count": 0,
   "metadata": {
    "colab": {},
    "colab_type": "code",
    "id": "i9Bkqq9mUIug"
   },
   "outputs": [],
   "source": [
    "#compile the model\n",
    "m_lstm_i.compile(loss='categorical_crossentropy',\n",
    "                 optimizer='adam')"
   ]
  },
  {
   "cell_type": "code",
   "execution_count": 0,
   "metadata": {
    "colab": {},
    "colab_type": "code",
    "id": "yo8dM4ePVe8H"
   },
   "outputs": [],
   "source": [
    "#define callbacks\n",
    "callbacks_lstm_i = [EarlyStopping(monitor='loss', patience=3),\n",
    "                    ModelCheckpoint(filepath=os.path.join(moddir + 'm_lstm_i.h5'),\n",
    "                                    monitor='loss',\n",
    "                                    save_best_only=True,\n",
    "                                    mode='auto')]"
   ]
  },
  {
   "cell_type": "code",
   "execution_count": 0,
   "metadata": {
    "colab": {},
    "colab_type": "code",
    "id": "fAq45YPgUSPa"
   },
   "outputs": [],
   "source": [
    "#fit the model\n",
    "m_lstm_i.fit(X_i,\n",
    "             y_i,\n",
    "             epochs=4,\n",
    "             batch_size=100,\n",
    "             callbacks=callbacks_lstm_i)"
   ]
  },
  {
   "cell_type": "markdown",
   "metadata": {
    "colab_type": "text",
    "id": "yUPh-20fQ-pg"
   },
   "source": [
    "<H3>\n",
    "LSTM Model - word embedding\n",
    "</H3>\n",
    "\n",
    "This is a word level model that uses Keras' native Embedding layer to create embeddings. These embeddings are used as the basis for training the network."
   ]
  },
  {
   "cell_type": "code",
   "execution_count": 0,
   "metadata": {
    "colab": {},
    "colab_type": "code",
    "id": "fwvAaXkk3bf8"
   },
   "outputs": [],
   "source": [
    "#tokenize the data\n",
    "tokenizer = Tokenizer(char_level = False, filters = '')\n",
    "tokenizer.fit_on_texts([raw_low])\n",
    "total_words = len(tokenizer.word_index) + 1\n",
    "token_list = tokenizer.texts_to_sequences([raw_low])[0]"
   ]
  },
  {
   "cell_type": "code",
   "execution_count": 0,
   "metadata": {
    "colab": {},
    "colab_type": "code",
    "id": "gNFDAIyp6CGg"
   },
   "outputs": [],
   "source": [
    "#define sequences function\n",
    "def generate_sequences(token_list, step):\n",
    "\n",
    "    X = []\n",
    "    y = []\n",
    "\n",
    "    for i in range(0, len(token_list) - seq_length, step):\n",
    "        X.append(token_list[i: i + seq_length])\n",
    "        y.append(token_list[i + seq_length])\n",
    "\n",
    "    y = np_utils.to_categorical(y, num_classes = total_words)\n",
    "\n",
    "    num_seq = len(X)\n",
    "    print('Number of sequences:', num_seq, \"\\n\")\n",
    "\n",
    "    X = np.array(X)\n",
    "    y = np.array(y)\n",
    "    \n",
    "    return X, y, num_seq\n"
   ]
  },
  {
   "cell_type": "code",
   "execution_count": 24,
   "metadata": {
    "colab": {
     "base_uri": "https://localhost:8080/",
     "height": 53
    },
    "colab_type": "code",
    "executionInfo": {
     "elapsed": 13103,
     "status": "ok",
     "timestamp": 1575405488973,
     "user": {
      "displayName": "John Doe",
      "photoUrl": "",
      "userId": "02887734704181177763"
     },
     "user_tz": 300
    },
    "id": "4W6iG5cF6CCI",
    "outputId": "d5b5f193-2393-4c9e-adcd-6f73dbb978f0"
   },
   "outputs": [
    {
     "name": "stdout",
     "output_type": "stream",
     "text": [
      "Number of sequences: 93050 \n",
      "\n"
     ]
    }
   ],
   "source": [
    "#generate sequences\n",
    "step = 1\n",
    "seq_length = 20\n",
    "X, y, num_seq = generate_sequences(token_list, step)"
   ]
  },
  {
   "cell_type": "code",
   "execution_count": 0,
   "metadata": {
    "colab": {
     "base_uri": "https://localhost:8080/",
     "height": 224
    },
    "colab_type": "code",
    "executionInfo": {
     "elapsed": 4313,
     "status": "ok",
     "timestamp": 1574475661919,
     "user": {
      "displayName": "John Doe",
      "photoUrl": "",
      "userId": "02887734704181177763"
     },
     "user_tz": 300
    },
    "id": "aZHDxji-3bW0",
    "outputId": "bf94cfd0-7a5e-4545-c5d8-dabe753e7a2a"
   },
   "outputs": [
    {
     "name": "stdout",
     "output_type": "stream",
     "text": [
      "WARNING:tensorflow:From /usr/local/lib/python3.6/dist-packages/keras/backend/tensorflow_backend.py:66: The name tf.get_default_graph is deprecated. Please use tf.compat.v1.get_default_graph instead.\n",
      "\n",
      "WARNING:tensorflow:From /usr/local/lib/python3.6/dist-packages/keras/backend/tensorflow_backend.py:541: The name tf.placeholder is deprecated. Please use tf.compat.v1.placeholder instead.\n",
      "\n",
      "WARNING:tensorflow:From /usr/local/lib/python3.6/dist-packages/keras/backend/tensorflow_backend.py:4432: The name tf.random_uniform is deprecated. Please use tf.random.uniform instead.\n",
      "\n",
      "WARNING:tensorflow:From /usr/local/lib/python3.6/dist-packages/keras/backend/tensorflow_backend.py:148: The name tf.placeholder_with_default is deprecated. Please use tf.compat.v1.placeholder_with_default instead.\n",
      "\n",
      "WARNING:tensorflow:From /usr/local/lib/python3.6/dist-packages/keras/backend/tensorflow_backend.py:3733: calling dropout (from tensorflow.python.ops.nn_ops) with keep_prob is deprecated and will be removed in a future version.\n",
      "Instructions for updating:\n",
      "Please use `rate` instead of `keep_prob`. Rate should be set to `rate = 1 - keep_prob`.\n"
     ]
    }
   ],
   "source": [
    "#define model architecture\n",
    "n_neurons = 512\n",
    "embed_size = 100\n",
    "\n",
    "m_lstm_e = Sequential()\n",
    "m_lstm_e.add(Embedding(total_words, embed_size, input_length=seq_length))\n",
    "m_lstm_e.add(LSTM(n_neurons, return_sequences=True))\n",
    "m_lstm_e.add(Dropout(0.2))\n",
    "m_lstm_e.add(LSTM(n_neurons, return_sequences=True))\n",
    "m_lstm_e.add(Dropout(0.2))\n",
    "m_lstm_e.add(LSTM(n_neurons, return_sequences=True))\n",
    "m_lstm_e.add(Dropout(0.2))\n",
    "m_lstm_e.add(LSTM(n_neurons, return_sequences=False))\n",
    "m_lstm_e.add(Dense(n_neurons, activation='relu'))\n",
    "m_lstm_e.add(Dropout(0.2))\n",
    "m_lstm_e.add(Dense(total_words, activation='softmax'))"
   ]
  },
  {
   "cell_type": "code",
   "execution_count": 0,
   "metadata": {
    "colab": {
     "base_uri": "https://localhost:8080/",
     "height": 105
    },
    "colab_type": "code",
    "executionInfo": {
     "elapsed": 1472,
     "status": "ok",
     "timestamp": 1574475663461,
     "user": {
      "displayName": "John Doe",
      "photoUrl": "",
      "userId": "02887734704181177763"
     },
     "user_tz": 300
    },
    "id": "DD7MWXdO3bPr",
    "outputId": "712f5c31-bdf7-46cf-90d1-c03b38a46272"
   },
   "outputs": [
    {
     "name": "stdout",
     "output_type": "stream",
     "text": [
      "WARNING:tensorflow:From /usr/local/lib/python3.6/dist-packages/keras/optimizers.py:793: The name tf.train.Optimizer is deprecated. Please use tf.compat.v1.train.Optimizer instead.\n",
      "\n",
      "WARNING:tensorflow:From /usr/local/lib/python3.6/dist-packages/keras/backend/tensorflow_backend.py:3576: The name tf.log is deprecated. Please use tf.math.log instead.\n",
      "\n"
     ]
    }
   ],
   "source": [
    "#compile the model\n",
    "m_lstm_e.compile(loss='categorical_crossentropy',\n",
    "                 optimizer='adam')"
   ]
  },
  {
   "cell_type": "code",
   "execution_count": 0,
   "metadata": {
    "colab": {},
    "colab_type": "code",
    "id": "biKhNJrI7lKq"
   },
   "outputs": [],
   "source": [
    "#define callbacks\n",
    "callbacks_lstm_e = [EarlyStopping(monitor='loss', patience=3),\n",
    "                    ModelCheckpoint(filepath=os.path.join(moddir + 'm_lstm_e.h5'),\n",
    "                                    monitor='loss',\n",
    "                                    save_best_only=True,\n",
    "                                    mode='auto')]"
   ]
  },
  {
   "cell_type": "code",
   "execution_count": 0,
   "metadata": {
    "colab": {
     "base_uri": "https://localhost:8080/",
     "height": 989
    },
    "colab_type": "code",
    "executionInfo": {
     "elapsed": 797714,
     "status": "ok",
     "timestamp": 1574480390197,
     "user": {
      "displayName": "John Doe",
      "photoUrl": "",
      "userId": "02887734704181177763"
     },
     "user_tz": 300
    },
    "id": "D53Nsl4O7lFf",
    "outputId": "d4582457-9690-4993-dd2b-a1e5903f27f8"
   },
   "outputs": [
    {
     "name": "stdout",
     "output_type": "stream",
     "text": [
      "WARNING:tensorflow:From /usr/local/lib/python3.6/dist-packages/tensorflow_core/python/ops/math_grad.py:1424: where (from tensorflow.python.ops.array_ops) is deprecated and will be removed in a future version.\n",
      "Instructions for updating:\n",
      "Use tf.where in 2.0, which has the same broadcast rule as np.where\n",
      "WARNING:tensorflow:From /usr/local/lib/python3.6/dist-packages/keras/backend/tensorflow_backend.py:1033: The name tf.assign_add is deprecated. Please use tf.compat.v1.assign_add instead.\n",
      "\n",
      "WARNING:tensorflow:From /usr/local/lib/python3.6/dist-packages/keras/backend/tensorflow_backend.py:1020: The name tf.assign is deprecated. Please use tf.compat.v1.assign instead.\n",
      "\n",
      "WARNING:tensorflow:From /usr/local/lib/python3.6/dist-packages/keras/backend/tensorflow_backend.py:3005: The name tf.Session is deprecated. Please use tf.compat.v1.Session instead.\n",
      "\n",
      "Epoch 1/25\n",
      "WARNING:tensorflow:From /usr/local/lib/python3.6/dist-packages/keras/backend/tensorflow_backend.py:190: The name tf.get_default_session is deprecated. Please use tf.compat.v1.get_default_session instead.\n",
      "\n",
      "WARNING:tensorflow:From /usr/local/lib/python3.6/dist-packages/keras/backend/tensorflow_backend.py:197: The name tf.ConfigProto is deprecated. Please use tf.compat.v1.ConfigProto instead.\n",
      "\n",
      "WARNING:tensorflow:From /usr/local/lib/python3.6/dist-packages/keras/backend/tensorflow_backend.py:207: The name tf.global_variables is deprecated. Please use tf.compat.v1.global_variables instead.\n",
      "\n",
      "WARNING:tensorflow:From /usr/local/lib/python3.6/dist-packages/keras/backend/tensorflow_backend.py:216: The name tf.is_variable_initialized is deprecated. Please use tf.compat.v1.is_variable_initialized instead.\n",
      "\n",
      "WARNING:tensorflow:From /usr/local/lib/python3.6/dist-packages/keras/backend/tensorflow_backend.py:223: The name tf.variables_initializer is deprecated. Please use tf.compat.v1.variables_initializer instead.\n",
      "\n",
      "93050/93050 [==============================] - 284s 3ms/step - loss: 7.2121\n",
      "Epoch 2/25\n",
      "93050/93050 [==============================] - 261s 3ms/step - loss: 7.0335\n",
      "Epoch 3/25\n",
      "93050/93050 [==============================] - 260s 3ms/step - loss: 7.0117\n",
      "Epoch 4/25\n",
      "93050/93050 [==============================] - 260s 3ms/step - loss: 7.0014\n",
      "Epoch 5/25\n",
      "93050/93050 [==============================] - 259s 3ms/step - loss: 6.9972\n",
      "Epoch 6/25\n",
      "93050/93050 [==============================] - 259s 3ms/step - loss: 6.9980\n",
      "Epoch 7/25\n",
      "93050/93050 [==============================] - 259s 3ms/step - loss: 6.9929\n",
      "Epoch 8/25\n",
      "93050/93050 [==============================] - 259s 3ms/step - loss: 6.9927\n",
      "Epoch 9/25\n",
      "93050/93050 [==============================] - 258s 3ms/step - loss: 6.9952\n",
      "Epoch 10/25\n",
      "93050/93050 [==============================] - 258s 3ms/step - loss: 6.9897\n",
      "Epoch 11/25\n",
      "93050/93050 [==============================] - 258s 3ms/step - loss: 6.9866\n",
      "Epoch 12/25\n",
      "93050/93050 [==============================] - 258s 3ms/step - loss: 6.9824\n",
      "Epoch 13/25\n",
      "93050/93050 [==============================] - 258s 3ms/step - loss: 6.9872\n",
      "Epoch 14/25\n",
      "93050/93050 [==============================] - 258s 3ms/step - loss: 6.9820\n",
      "Epoch 15/25\n",
      "93050/93050 [==============================] - 259s 3ms/step - loss: 6.9787\n",
      "Epoch 16/25\n",
      "93050/93050 [==============================] - 258s 3ms/step - loss: 6.9828\n",
      "Epoch 17/25\n",
      "93050/93050 [==============================] - 258s 3ms/step - loss: 6.9846\n",
      "Epoch 18/25\n",
      "93050/93050 [==============================] - 258s 3ms/step - loss: 6.9808\n"
     ]
    },
    {
     "data": {
      "text/plain": [
       "<keras.callbacks.History at 0x7f017abf9198>"
      ]
     },
     "execution_count": 13,
     "metadata": {
      "tags": []
     },
     "output_type": "execute_result"
    }
   ],
   "source": [
    "#fit the model\n",
    "m_lstm_e.fit(X, \n",
    "             y, \n",
    "             epochs=25, \n",
    "             batch_size=100,\n",
    "             callbacks=callbacks_lstm_e)"
   ]
  },
  {
   "cell_type": "markdown",
   "metadata": {
    "colab_type": "text",
    "id": "ZyDcCmYoI5Sd"
   },
   "source": [
    "<H3>\n",
    "Attention\n",
    "</H3>\n"
   ]
  },
  {
   "cell_type": "code",
   "execution_count": 0,
   "metadata": {
    "colab": {},
    "colab_type": "code",
    "id": "vq8RgTgz-jUb"
   },
   "outputs": [],
   "source": [
    "#create attention layer\n",
    "# https://www.analyticsvidhya.com/blog/2019/11/comprehensive-guide-attention-mechanism-deep-learning/\n",
    "class attention(Layer):\n",
    "    def __init__(self,**kwargs):\n",
    "        super(attention,self).__init__(**kwargs)\n",
    "\n",
    "    def build(self,input_shape):\n",
    "        self.W=self.add_weight(name=\"att_weight\",shape=(input_shape[-1],1),initializer=\"normal\")\n",
    "        self.b=self.add_weight(name=\"att_bias\",shape=(input_shape[1],1),initializer=\"zeros\")        \n",
    "        super(attention, self).build(input_shape)\n",
    "\n",
    "    def call(self,x):\n",
    "        et=K.squeeze(K.tanh(K.dot(x,self.W)+self.b),axis=-1)\n",
    "        at=K.softmax(et)\n",
    "        at=K.expand_dims(at,axis=-1)\n",
    "        output=x*at\n",
    "        return K.sum(output,axis=1)\n",
    "\n",
    "    def compute_output_shape(self,input_shape):\n",
    "        return (input_shape[0],input_shape[-1])\n",
    "\n",
    "    def get_config(self):\n",
    "        return super(attention,self).get_config()"
   ]
  },
  {
   "cell_type": "markdown",
   "metadata": {
    "colab_type": "text",
    "id": "nofK6Ci7Rx2Y"
   },
   "source": [
    "The model below is the same embedding based model as above, but with an attention layer added"
   ]
  },
  {
   "cell_type": "code",
   "execution_count": 0,
   "metadata": {
    "colab": {
     "base_uri": "https://localhost:8080/",
     "height": 71
    },
    "colab_type": "code",
    "executionInfo": {
     "elapsed": 3056,
     "status": "ok",
     "timestamp": 1574600295469,
     "user": {
      "displayName": "John Doe",
      "photoUrl": "",
      "userId": "02887734704181177763"
     },
     "user_tz": 300
    },
    "id": "Rzm9oImg-jQi",
    "outputId": "6a2593bd-1ab3-4575-e329-3979219a0c4e"
   },
   "outputs": [
    {
     "name": "stdout",
     "output_type": "stream",
     "text": [
      "WARNING:tensorflow:From /usr/local/lib/python3.6/dist-packages/keras/backend/tensorflow_backend.py:4409: The name tf.random_normal is deprecated. Please use tf.random.normal instead.\n",
      "\n"
     ]
    }
   ],
   "source": [
    "#define model architecture\n",
    "n_neurons = 512\n",
    "embed_size = 100\n",
    "\n",
    "m_lstm_ea = Sequential()\n",
    "m_lstm_ea.add(Embedding(total_words, embed_size, input_length=seq_length))\n",
    "m_lstm_ea.add(LSTM(n_neurons, return_sequences=True))\n",
    "m_lstm_ea.add(Dropout(0.2))\n",
    "m_lstm_ea.add(LSTM(n_neurons, return_sequences=True))\n",
    "m_lstm_ea.add(Dropout(0.2))\n",
    "m_lstm_ea.add(LSTM(n_neurons, return_sequences=True))\n",
    "m_lstm_ea.add(attention())\n",
    "m_lstm_ea.add(Dense(n_neurons, activation='relu'))\n",
    "m_lstm_ea.add(Dense(total_words, activation='softmax'))"
   ]
  },
  {
   "cell_type": "code",
   "execution_count": 0,
   "metadata": {
    "colab": {
     "base_uri": "https://localhost:8080/",
     "height": 105
    },
    "colab_type": "code",
    "executionInfo": {
     "elapsed": 640,
     "status": "ok",
     "timestamp": 1574554035318,
     "user": {
      "displayName": "John Doe",
      "photoUrl": "",
      "userId": "02887734704181177763"
     },
     "user_tz": 300
    },
    "id": "mckXNWAouqH4",
    "outputId": "85ee468b-a391-49c1-b839-dc1528e6c01a"
   },
   "outputs": [
    {
     "name": "stdout",
     "output_type": "stream",
     "text": [
      "WARNING:tensorflow:From /usr/local/lib/python3.6/dist-packages/keras/optimizers.py:793: The name tf.train.Optimizer is deprecated. Please use tf.compat.v1.train.Optimizer instead.\n",
      "\n",
      "WARNING:tensorflow:From /usr/local/lib/python3.6/dist-packages/keras/backend/tensorflow_backend.py:3576: The name tf.log is deprecated. Please use tf.math.log instead.\n",
      "\n"
     ]
    }
   ],
   "source": [
    "#compile the model\n",
    "m_lstm_ea.compile(loss='categorical_crossentropy',\n",
    "                  optimizer='adam')"
   ]
  },
  {
   "cell_type": "code",
   "execution_count": 0,
   "metadata": {
    "colab": {},
    "colab_type": "code",
    "id": "Y8XI7f6_utRN"
   },
   "outputs": [],
   "source": [
    "#define callbacks\n",
    "callbacks_lstm_ea = [EarlyStopping(monitor='loss', patience=3),\n",
    "                     ModelCheckpoint(filepath=os.path.join(moddir + 'm_lstm_ea.h5'),\n",
    "                                     monitor='loss',\n",
    "                                     save_best_only=True,\n",
    "                                     mode='auto')]"
   ]
  },
  {
   "cell_type": "code",
   "execution_count": 0,
   "metadata": {
    "colab": {
     "base_uri": "https://localhost:8080/",
     "height": 1000
    },
    "colab_type": "code",
    "executionInfo": {
     "elapsed": 14184229,
     "status": "ok",
     "timestamp": 1574574860899,
     "user": {
      "displayName": "John Doe",
      "photoUrl": "",
      "userId": "02887734704181177763"
     },
     "user_tz": 300
    },
    "id": "w7oR1BRXutMc",
    "outputId": "5b8e45ba-6072-4958-f9c3-7464bf46d37e"
   },
   "outputs": [
    {
     "name": "stdout",
     "output_type": "stream",
     "text": [
      "Epoch 1/70\n",
      "93050/93050 [==============================] - 203s 2ms/step - loss: 3.9831\n",
      "Epoch 2/70\n",
      "93050/93050 [==============================] - 203s 2ms/step - loss: 3.9014\n",
      "Epoch 3/70\n",
      "93050/93050 [==============================] - 203s 2ms/step - loss: 3.8209\n",
      "Epoch 4/70\n",
      "93050/93050 [==============================] - 203s 2ms/step - loss: 3.7464\n",
      "Epoch 5/70\n",
      "93050/93050 [==============================] - 202s 2ms/step - loss: 3.6707\n",
      "Epoch 6/70\n",
      "93050/93050 [==============================] - 202s 2ms/step - loss: 3.5951\n",
      "Epoch 7/70\n",
      "93050/93050 [==============================] - 202s 2ms/step - loss: 3.5341\n",
      "Epoch 8/70\n",
      "93050/93050 [==============================] - 202s 2ms/step - loss: 3.4685\n",
      "Epoch 9/70\n",
      "93050/93050 [==============================] - 203s 2ms/step - loss: 3.4071\n",
      "Epoch 10/70\n",
      "93050/93050 [==============================] - 203s 2ms/step - loss: 3.3469\n",
      "Epoch 11/70\n",
      "93050/93050 [==============================] - 203s 2ms/step - loss: 3.2755\n",
      "Epoch 12/70\n",
      "93050/93050 [==============================] - 202s 2ms/step - loss: 3.2211\n",
      "Epoch 13/70\n",
      "93050/93050 [==============================] - 202s 2ms/step - loss: 3.1684\n",
      "Epoch 14/70\n",
      "93050/93050 [==============================] - 202s 2ms/step - loss: 3.1144\n",
      "Epoch 15/70\n",
      "93050/93050 [==============================] - 202s 2ms/step - loss: 3.0554\n",
      "Epoch 16/70\n",
      "93050/93050 [==============================] - 202s 2ms/step - loss: 3.0144\n",
      "Epoch 17/70\n",
      "93050/93050 [==============================] - 202s 2ms/step - loss: 2.9593\n",
      "Epoch 18/70\n",
      "93050/93050 [==============================] - 202s 2ms/step - loss: 2.9101\n",
      "Epoch 19/70\n",
      "93050/93050 [==============================] - 202s 2ms/step - loss: 2.8621\n",
      "Epoch 20/70\n",
      "93050/93050 [==============================] - 202s 2ms/step - loss: 2.8209\n",
      "Epoch 21/70\n",
      "93050/93050 [==============================] - 201s 2ms/step - loss: 2.7736\n",
      "Epoch 22/70\n",
      "93050/93050 [==============================] - 201s 2ms/step - loss: 2.7357\n",
      "Epoch 23/70\n",
      "93050/93050 [==============================] - 201s 2ms/step - loss: 2.6882\n",
      "Epoch 24/70\n",
      "93050/93050 [==============================] - 201s 2ms/step - loss: 2.6499\n",
      "Epoch 25/70\n",
      "93050/93050 [==============================] - 200s 2ms/step - loss: 2.6072\n",
      "Epoch 26/70\n",
      "93050/93050 [==============================] - 200s 2ms/step - loss: 2.5637\n",
      "Epoch 27/70\n",
      "93050/93050 [==============================] - 200s 2ms/step - loss: 2.5267\n",
      "Epoch 28/70\n",
      "93050/93050 [==============================] - 200s 2ms/step - loss: 2.4881\n",
      "Epoch 29/70\n",
      "93050/93050 [==============================] - 201s 2ms/step - loss: 2.4511\n",
      "Epoch 30/70\n",
      "93050/93050 [==============================] - 201s 2ms/step - loss: 2.4107\n",
      "Epoch 31/70\n",
      "93050/93050 [==============================] - 201s 2ms/step - loss: 2.3753\n",
      "Epoch 32/70\n",
      "93050/93050 [==============================] - 202s 2ms/step - loss: 2.3410\n",
      "Epoch 33/70\n",
      "93050/93050 [==============================] - 201s 2ms/step - loss: 2.3104\n",
      "Epoch 34/70\n",
      "93050/93050 [==============================] - 201s 2ms/step - loss: 2.2678\n",
      "Epoch 35/70\n",
      "93050/93050 [==============================] - 201s 2ms/step - loss: 2.2283\n",
      "Epoch 36/70\n",
      "93050/93050 [==============================] - 201s 2ms/step - loss: 2.2007\n",
      "Epoch 37/70\n",
      "93050/93050 [==============================] - 200s 2ms/step - loss: 2.1703\n",
      "Epoch 38/70\n",
      "93050/93050 [==============================] - 201s 2ms/step - loss: 2.1279\n",
      "Epoch 39/70\n",
      "93050/93050 [==============================] - 200s 2ms/step - loss: 2.0916\n",
      "Epoch 40/70\n",
      "93050/93050 [==============================] - 201s 2ms/step - loss: 2.0678\n",
      "Epoch 41/70\n",
      "93050/93050 [==============================] - 200s 2ms/step - loss: 2.0352\n",
      "Epoch 42/70\n",
      "93050/93050 [==============================] - 200s 2ms/step - loss: 2.0041\n",
      "Epoch 43/70\n",
      "93050/93050 [==============================] - 200s 2ms/step - loss: 1.9706\n",
      "Epoch 44/70\n",
      "93050/93050 [==============================] - 200s 2ms/step - loss: 1.9428\n",
      "Epoch 45/70\n",
      "93050/93050 [==============================] - 201s 2ms/step - loss: 1.9114\n",
      "Epoch 46/70\n",
      "93050/93050 [==============================] - 200s 2ms/step - loss: 1.8794\n",
      "Epoch 47/70\n",
      "93050/93050 [==============================] - 200s 2ms/step - loss: 1.8507\n",
      "Epoch 48/70\n",
      "93050/93050 [==============================] - 200s 2ms/step - loss: 1.8245\n",
      "Epoch 49/70\n",
      "93050/93050 [==============================] - 200s 2ms/step - loss: 1.8009\n",
      "Epoch 50/70\n",
      "93050/93050 [==============================] - 200s 2ms/step - loss: 1.7697\n",
      "Epoch 51/70\n",
      "93050/93050 [==============================] - 199s 2ms/step - loss: 1.7358\n",
      "Epoch 52/70\n",
      "93050/93050 [==============================] - 197s 2ms/step - loss: 1.7064\n",
      "Epoch 53/70\n",
      "93050/93050 [==============================] - 198s 2ms/step - loss: 1.6830\n",
      "Epoch 54/70\n",
      "93050/93050 [==============================] - 198s 2ms/step - loss: 1.6616\n",
      "Epoch 55/70\n",
      "93050/93050 [==============================] - 198s 2ms/step - loss: 1.6268\n",
      "Epoch 56/70\n",
      "93050/93050 [==============================] - 198s 2ms/step - loss: 1.6093\n",
      "Epoch 57/70\n",
      "93050/93050 [==============================] - 198s 2ms/step - loss: 1.5840\n",
      "Epoch 58/70\n",
      "93050/93050 [==============================] - 199s 2ms/step - loss: 1.5566\n",
      "Epoch 59/70\n",
      "93050/93050 [==============================] - 199s 2ms/step - loss: 1.5230\n",
      "Epoch 60/70\n",
      "93050/93050 [==============================] - 198s 2ms/step - loss: 1.5071\n",
      "Epoch 61/70\n",
      "93050/93050 [==============================] - 199s 2ms/step - loss: 1.4865\n",
      "Epoch 62/70\n",
      "93050/93050 [==============================] - 198s 2ms/step - loss: 1.4622\n",
      "Epoch 63/70\n",
      "93050/93050 [==============================] - 198s 2ms/step - loss: 1.4376\n",
      "Epoch 64/70\n",
      "93050/93050 [==============================] - 198s 2ms/step - loss: 1.4156\n",
      "Epoch 65/70\n",
      "93050/93050 [==============================] - 199s 2ms/step - loss: 1.3952\n",
      "Epoch 66/70\n",
      "93050/93050 [==============================] - 201s 2ms/step - loss: 1.3716\n",
      "Epoch 67/70\n",
      "93050/93050 [==============================] - 202s 2ms/step - loss: 1.3432\n",
      "Epoch 68/70\n",
      "93050/93050 [==============================] - 201s 2ms/step - loss: 1.3197\n",
      "Epoch 69/70\n",
      "93050/93050 [==============================] - 201s 2ms/step - loss: 1.3077\n",
      "Epoch 70/70\n",
      "93050/93050 [==============================] - 201s 2ms/step - loss: 1.2830\n"
     ]
    },
    {
     "data": {
      "text/plain": [
       "<keras.callbacks.History at 0x7ff42049bf28>"
      ]
     },
     "execution_count": 39,
     "metadata": {
      "tags": []
     },
     "output_type": "execute_result"
    }
   ],
   "source": [
    "#fit the model\n",
    "m_lstm_ea.fit(X, \n",
    "              y, \n",
    "              epochs=70, \n",
    "              batch_size=100,\n",
    "              callbacks=callbacks_lstm_ea)"
   ]
  },
  {
   "cell_type": "markdown",
   "metadata": {
    "colab_type": "text",
    "id": "W5M3V_qqEjG_"
   },
   "source": [
    "The model below is the same integer based model as above, but with an attention layer added"
   ]
  },
  {
   "cell_type": "code",
   "execution_count": 0,
   "metadata": {
    "colab": {
     "base_uri": "https://localhost:8080/",
     "height": 258
    },
    "colab_type": "code",
    "executionInfo": {
     "elapsed": 2788,
     "status": "ok",
     "timestamp": 1574608821068,
     "user": {
      "displayName": "John Doe",
      "photoUrl": "",
      "userId": "02887734704181177763"
     },
     "user_tz": 300
    },
    "id": "9OokgnKP_pFH",
    "outputId": "deed1a16-88c8-4576-9782-a19416a5c0da"
   },
   "outputs": [
    {
     "name": "stdout",
     "output_type": "stream",
     "text": [
      "WARNING:tensorflow:From /usr/local/lib/python3.6/dist-packages/keras/backend/tensorflow_backend.py:66: The name tf.get_default_graph is deprecated. Please use tf.compat.v1.get_default_graph instead.\n",
      "\n",
      "WARNING:tensorflow:From /usr/local/lib/python3.6/dist-packages/keras/backend/tensorflow_backend.py:541: The name tf.placeholder is deprecated. Please use tf.compat.v1.placeholder instead.\n",
      "\n",
      "WARNING:tensorflow:From /usr/local/lib/python3.6/dist-packages/keras/backend/tensorflow_backend.py:4432: The name tf.random_uniform is deprecated. Please use tf.random.uniform instead.\n",
      "\n",
      "WARNING:tensorflow:From /usr/local/lib/python3.6/dist-packages/keras/backend/tensorflow_backend.py:148: The name tf.placeholder_with_default is deprecated. Please use tf.compat.v1.placeholder_with_default instead.\n",
      "\n",
      "WARNING:tensorflow:From /usr/local/lib/python3.6/dist-packages/keras/backend/tensorflow_backend.py:3733: calling dropout (from tensorflow.python.ops.nn_ops) with keep_prob is deprecated and will be removed in a future version.\n",
      "Instructions for updating:\n",
      "Please use `rate` instead of `keep_prob`. Rate should be set to `rate = 1 - keep_prob`.\n",
      "WARNING:tensorflow:From /usr/local/lib/python3.6/dist-packages/keras/backend/tensorflow_backend.py:4409: The name tf.random_normal is deprecated. Please use tf.random.normal instead.\n",
      "\n"
     ]
    }
   ],
   "source": [
    "#define model architecture\n",
    "n_neurons = 512\n",
    "input_size_1 = X_i.shape[1]\n",
    "input_size_2 = X_i.shape[2]\n",
    "output_size = y_i.shape[1]\n",
    "\n",
    "m_lstm_ia = Sequential()\n",
    "\n",
    "m_lstm_ia.add(LSTM(n_neurons, \n",
    "                  input_shape=(input_size_1, input_size_2), \n",
    "                  return_sequences=True))\n",
    "\n",
    "m_lstm_ia.add(Dropout(0.25))\n",
    "m_lstm_ia.add(LSTM(n_neurons, return_sequences=True))\n",
    "m_lstm_ia.add(Dropout(0.25))\n",
    "m_lstm_ia.add(LSTM(n_neurons, return_sequences=True))\n",
    "m_lstm_ia.add(attention())\n",
    "m_lstm_ia.add(Dropout(0.25))\n",
    "m_lstm_ia.add(Dense(output_size, activation='softmax'))\n"
   ]
  },
  {
   "cell_type": "code",
   "execution_count": 0,
   "metadata": {
    "colab": {},
    "colab_type": "code",
    "id": "m7xNGhPh_-Ik"
   },
   "outputs": [],
   "source": [
    "#compile the model\n",
    "m_lstm_ia.compile(loss='categorical_crossentropy',\n",
    "                  optimizer='adam')"
   ]
  },
  {
   "cell_type": "code",
   "execution_count": 0,
   "metadata": {
    "colab": {},
    "colab_type": "code",
    "id": "IHs4Yjl8_93O"
   },
   "outputs": [],
   "source": [
    "#define callbacks\n",
    "callbacks_lstm_ia = [EarlyStopping(monitor='loss', patience=3),\n",
    "                    ModelCheckpoint(filepath=os.path.join(moddir + 'm_lstm_ia.h5'),\n",
    "                                    monitor='loss',\n",
    "                                    save_best_only=True,\n",
    "                                    mode='auto')]"
   ]
  },
  {
   "cell_type": "code",
   "execution_count": 0,
   "metadata": {
    "colab": {
     "base_uri": "https://localhost:8080/",
     "height": 391
    },
    "colab_type": "code",
    "id": "ZOpAkXIsAO7D",
    "outputId": "a0f06e11-42eb-496b-e6c3-f38b9c277900"
   },
   "outputs": [
    {
     "name": "stdout",
     "output_type": "stream",
     "text": [
      "Epoch 1/23\n",
      "517506/517506 [==============================] - 2040s 4ms/step - loss: 2.9712\n",
      "Epoch 2/23\n",
      "517506/517506 [==============================] - 2066s 4ms/step - loss: 2.9709\n",
      "Epoch 3/23\n",
      "517506/517506 [==============================] - 2038s 4ms/step - loss: 2.9709\n",
      "Epoch 4/23\n",
      "517506/517506 [==============================] - 2083s 4ms/step - loss: 2.9708\n",
      "Epoch 5/23\n",
      "517506/517506 [==============================] - 2060s 4ms/step - loss: 2.9706\n",
      "Epoch 6/23\n",
      "517506/517506 [==============================] - 2098s 4ms/step - loss: 2.9706\n",
      "Epoch 7/23\n",
      "517506/517506 [==============================] - 2135s 4ms/step - loss: 2.9706\n",
      "Epoch 8/23\n",
      "517506/517506 [==============================] - 2114s 4ms/step - loss: 2.9704\n",
      "Epoch 9/23\n",
      "517506/517506 [==============================] - 2135s 4ms/step - loss: 2.9704\n",
      "Epoch 10/23\n",
      "517506/517506 [==============================] - 2144s 4ms/step - loss: 2.9776\n",
      "Epoch 11/23\n",
      " 86300/517506 [====>.........................] - ETA: 29:26 - loss: 2.9741"
     ]
    }
   ],
   "source": [
    "#fit the model\n",
    "m_lstm_ia.fit(X_i,\n",
    "              y_i,\n",
    "              epochs=23,\n",
    "              batch_size=100,\n",
    "              callbacks=callbacks_lstm_ia)"
   ]
  },
  {
   "cell_type": "markdown",
   "metadata": {
    "colab_type": "text",
    "id": "30uU4ZZP0jRn"
   },
   "source": [
    "<H3>\n",
    "Comparison\n",
    "</H3>\n",
    "<p>\n",
    "This section will compare the output of the different models to get an idea for which produces the highest quality text.\n",
    "</p>"
   ]
  },
  {
   "cell_type": "code",
   "execution_count": 26,
   "metadata": {
    "colab": {
     "base_uri": "https://localhost:8080/",
     "height": 691
    },
    "colab_type": "code",
    "executionInfo": {
     "elapsed": 45377,
     "status": "ok",
     "timestamp": 1575405531300,
     "user": {
      "displayName": "John Doe",
      "photoUrl": "",
      "userId": "02887734704181177763"
     },
     "user_tz": 300
    },
    "id": "rwibiYiMEyd2",
    "outputId": "c80464fc-a7d2-4c27-d4e1-6e1875600bda"
   },
   "outputs": [
    {
     "name": "stdout",
     "output_type": "stream",
     "text": [
      "WARNING:tensorflow:From /usr/local/lib/python3.6/dist-packages/keras/backend/tensorflow_backend.py:66: The name tf.get_default_graph is deprecated. Please use tf.compat.v1.get_default_graph instead.\n",
      "\n",
      "WARNING:tensorflow:From /usr/local/lib/python3.6/dist-packages/keras/backend/tensorflow_backend.py:541: The name tf.placeholder is deprecated. Please use tf.compat.v1.placeholder instead.\n",
      "\n",
      "WARNING:tensorflow:From /usr/local/lib/python3.6/dist-packages/keras/backend/tensorflow_backend.py:4432: The name tf.random_uniform is deprecated. Please use tf.random.uniform instead.\n",
      "\n",
      "WARNING:tensorflow:From /usr/local/lib/python3.6/dist-packages/keras/backend/tensorflow_backend.py:148: The name tf.placeholder_with_default is deprecated. Please use tf.compat.v1.placeholder_with_default instead.\n",
      "\n",
      "WARNING:tensorflow:From /usr/local/lib/python3.6/dist-packages/keras/backend/tensorflow_backend.py:3733: calling dropout (from tensorflow.python.ops.nn_ops) with keep_prob is deprecated and will be removed in a future version.\n",
      "Instructions for updating:\n",
      "Please use `rate` instead of `keep_prob`. Rate should be set to `rate = 1 - keep_prob`.\n",
      "WARNING:tensorflow:From /usr/local/lib/python3.6/dist-packages/keras/backend/tensorflow_backend.py:190: The name tf.get_default_session is deprecated. Please use tf.compat.v1.get_default_session instead.\n",
      "\n",
      "WARNING:tensorflow:From /usr/local/lib/python3.6/dist-packages/keras/backend/tensorflow_backend.py:197: The name tf.ConfigProto is deprecated. Please use tf.compat.v1.ConfigProto instead.\n",
      "\n",
      "WARNING:tensorflow:From /usr/local/lib/python3.6/dist-packages/keras/backend/tensorflow_backend.py:203: The name tf.Session is deprecated. Please use tf.compat.v1.Session instead.\n",
      "\n",
      "WARNING:tensorflow:From /usr/local/lib/python3.6/dist-packages/keras/backend/tensorflow_backend.py:207: The name tf.global_variables is deprecated. Please use tf.compat.v1.global_variables instead.\n",
      "\n",
      "WARNING:tensorflow:From /usr/local/lib/python3.6/dist-packages/keras/backend/tensorflow_backend.py:216: The name tf.is_variable_initialized is deprecated. Please use tf.compat.v1.is_variable_initialized instead.\n",
      "\n",
      "WARNING:tensorflow:From /usr/local/lib/python3.6/dist-packages/keras/backend/tensorflow_backend.py:223: The name tf.variables_initializer is deprecated. Please use tf.compat.v1.variables_initializer instead.\n",
      "\n",
      "WARNING:tensorflow:From /usr/local/lib/python3.6/dist-packages/keras/optimizers.py:793: The name tf.train.Optimizer is deprecated. Please use tf.compat.v1.train.Optimizer instead.\n",
      "\n",
      "WARNING:tensorflow:From /usr/local/lib/python3.6/dist-packages/keras/backend/tensorflow_backend.py:3576: The name tf.log is deprecated. Please use tf.math.log instead.\n",
      "\n",
      "WARNING:tensorflow:From /usr/local/lib/python3.6/dist-packages/tensorflow_core/python/ops/math_grad.py:1424: where (from tensorflow.python.ops.array_ops) is deprecated and will be removed in a future version.\n",
      "Instructions for updating:\n",
      "Use tf.where in 2.0, which has the same broadcast rule as np.where\n",
      "WARNING:tensorflow:From /usr/local/lib/python3.6/dist-packages/keras/backend/tensorflow_backend.py:1033: The name tf.assign_add is deprecated. Please use tf.compat.v1.assign_add instead.\n",
      "\n",
      "WARNING:tensorflow:From /usr/local/lib/python3.6/dist-packages/keras/backend/tensorflow_backend.py:1020: The name tf.assign is deprecated. Please use tf.compat.v1.assign instead.\n",
      "\n",
      "WARNING:tensorflow:From /usr/local/lib/python3.6/dist-packages/keras/backend/tensorflow_backend.py:4409: The name tf.random_normal is deprecated. Please use tf.random.normal instead.\n",
      "\n"
     ]
    }
   ],
   "source": [
    "#load models\n",
    "m_lstm_i = load_model(os.path.join(moddir + 'm_lstm_i.h5')) #30 epochs\n",
    "\n",
    "m_lstm_ia = load_model(os.path.join(moddir + 'm_lstm_ia.h5'),\n",
    "                       custom_objects={'attention': attention}) #17 epochs\n",
    "\n",
    "m_lstm_e = load_model(os.path.join(moddir + 'm_lstm_e.h5')) #18 epochs\n",
    "\n",
    "m_lstm_ea = load_model(os.path.join(moddir + 'm_lstm_ea.h5'),\n",
    "                       custom_objects={'attention': attention}) #100 epochs"
   ]
  },
  {
   "cell_type": "code",
   "execution_count": 0,
   "metadata": {
    "colab": {
     "base_uri": "https://localhost:8080/",
     "height": 408
    },
    "colab_type": "code",
    "executionInfo": {
     "elapsed": 663,
     "status": "ok",
     "timestamp": 1574731760049,
     "user": {
      "displayName": "John Doe",
      "photoUrl": "",
      "userId": "02887734704181177763"
     },
     "user_tz": 300
    },
    "id": "SdxYBLqjUpGq",
    "outputId": "62c4acd7-bb18-45c1-e88a-8de80f3a4e9e"
   },
   "outputs": [
    {
     "name": "stdout",
     "output_type": "stream",
     "text": [
      "Model: \"sequential_1\"\n",
      "_________________________________________________________________\n",
      "Layer (type)                 Output Shape              Param #   \n",
      "=================================================================\n",
      "lstm_1 (LSTM)                (None, 100, 512)          1052672   \n",
      "_________________________________________________________________\n",
      "dropout_1 (Dropout)          (None, 100, 512)          0         \n",
      "_________________________________________________________________\n",
      "lstm_2 (LSTM)                (None, 100, 512)          2099200   \n",
      "_________________________________________________________________\n",
      "dropout_2 (Dropout)          (None, 100, 512)          0         \n",
      "_________________________________________________________________\n",
      "lstm_3 (LSTM)                (None, 512)               2099200   \n",
      "_________________________________________________________________\n",
      "dropout_3 (Dropout)          (None, 512)               0         \n",
      "_________________________________________________________________\n",
      "dense_1 (Dense)              (None, 48)                24624     \n",
      "=================================================================\n",
      "Total params: 5,275,696\n",
      "Trainable params: 5,275,696\n",
      "Non-trainable params: 0\n",
      "_________________________________________________________________\n",
      "None\n"
     ]
    }
   ],
   "source": [
    "#integer encoded model summary, no attention\n",
    "print(m_lstm_i.summary())"
   ]
  },
  {
   "cell_type": "code",
   "execution_count": 0,
   "metadata": {
    "colab": {
     "base_uri": "https://localhost:8080/",
     "height": 442
    },
    "colab_type": "code",
    "executionInfo": {
     "elapsed": 712,
     "status": "ok",
     "timestamp": 1574731779460,
     "user": {
      "displayName": "John Doe",
      "photoUrl": "",
      "userId": "02887734704181177763"
     },
     "user_tz": 300
    },
    "id": "KsOhAtYvUq8P",
    "outputId": "68326b16-353a-45f1-cb58-ef83dfb76772"
   },
   "outputs": [
    {
     "name": "stdout",
     "output_type": "stream",
     "text": [
      "Model: \"sequential_1\"\n",
      "_________________________________________________________________\n",
      "Layer (type)                 Output Shape              Param #   \n",
      "=================================================================\n",
      "lstm_1 (LSTM)                (None, 100, 512)          1052672   \n",
      "_________________________________________________________________\n",
      "dropout_1 (Dropout)          (None, 100, 512)          0         \n",
      "_________________________________________________________________\n",
      "lstm_2 (LSTM)                (None, 100, 512)          2099200   \n",
      "_________________________________________________________________\n",
      "dropout_2 (Dropout)          (None, 100, 512)          0         \n",
      "_________________________________________________________________\n",
      "lstm_3 (LSTM)                (None, 100, 512)          2099200   \n",
      "_________________________________________________________________\n",
      "attention_1 (attention)      (None, 512)               612       \n",
      "_________________________________________________________________\n",
      "dropout_3 (Dropout)          (None, 512)               0         \n",
      "_________________________________________________________________\n",
      "dense_1 (Dense)              (None, 48)                24624     \n",
      "=================================================================\n",
      "Total params: 5,276,308\n",
      "Trainable params: 5,276,308\n",
      "Non-trainable params: 0\n",
      "_________________________________________________________________\n",
      "None\n"
     ]
    }
   ],
   "source": [
    "#integer encoded model summary, with attention\n",
    "print(m_lstm_ia.summary())"
   ]
  },
  {
   "cell_type": "code",
   "execution_count": 0,
   "metadata": {
    "colab": {
     "base_uri": "https://localhost:8080/",
     "height": 544
    },
    "colab_type": "code",
    "executionInfo": {
     "elapsed": 693,
     "status": "ok",
     "timestamp": 1574731801710,
     "user": {
      "displayName": "John Doe",
      "photoUrl": "",
      "userId": "02887734704181177763"
     },
     "user_tz": 300
    },
    "id": "IyrFEye7UrRH",
    "outputId": "f203413a-ee02-437c-daf6-b64200cf08af"
   },
   "outputs": [
    {
     "name": "stdout",
     "output_type": "stream",
     "text": [
      "Model: \"sequential_1\"\n",
      "_________________________________________________________________\n",
      "Layer (type)                 Output Shape              Param #   \n",
      "=================================================================\n",
      "embedding_1 (Embedding)      (None, 20, 100)           1485700   \n",
      "_________________________________________________________________\n",
      "lstm_1 (LSTM)                (None, 20, 512)           1255424   \n",
      "_________________________________________________________________\n",
      "dropout_1 (Dropout)          (None, 20, 512)           0         \n",
      "_________________________________________________________________\n",
      "lstm_2 (LSTM)                (None, 20, 512)           2099200   \n",
      "_________________________________________________________________\n",
      "dropout_2 (Dropout)          (None, 20, 512)           0         \n",
      "_________________________________________________________________\n",
      "lstm_3 (LSTM)                (None, 20, 512)           2099200   \n",
      "_________________________________________________________________\n",
      "dropout_3 (Dropout)          (None, 20, 512)           0         \n",
      "_________________________________________________________________\n",
      "lstm_4 (LSTM)                (None, 512)               2099200   \n",
      "_________________________________________________________________\n",
      "dense_1 (Dense)              (None, 512)               262656    \n",
      "_________________________________________________________________\n",
      "dropout_4 (Dropout)          (None, 512)               0         \n",
      "_________________________________________________________________\n",
      "dense_2 (Dense)              (None, 14857)             7621641   \n",
      "=================================================================\n",
      "Total params: 16,923,021\n",
      "Trainable params: 16,923,021\n",
      "Non-trainable params: 0\n",
      "_________________________________________________________________\n",
      "None\n"
     ]
    }
   ],
   "source": [
    "#word embeddings model summary, no attention\n",
    "print(m_lstm_e.summary())"
   ]
  },
  {
   "cell_type": "code",
   "execution_count": 0,
   "metadata": {
    "colab": {
     "base_uri": "https://localhost:8080/",
     "height": 476
    },
    "colab_type": "code",
    "executionInfo": {
     "elapsed": 841,
     "status": "ok",
     "timestamp": 1574731814130,
     "user": {
      "displayName": "John Doe",
      "photoUrl": "",
      "userId": "02887734704181177763"
     },
     "user_tz": 300
    },
    "id": "K2wrSGmvUrLv",
    "outputId": "9c45bb1a-bd28-4d1e-c1f1-97fc2e11b420"
   },
   "outputs": [
    {
     "name": "stdout",
     "output_type": "stream",
     "text": [
      "Model: \"sequential_6\"\n",
      "_________________________________________________________________\n",
      "Layer (type)                 Output Shape              Param #   \n",
      "=================================================================\n",
      "embedding_6 (Embedding)      (None, 20, 100)           1485700   \n",
      "_________________________________________________________________\n",
      "lstm_15 (LSTM)               (None, 20, 512)           1255424   \n",
      "_________________________________________________________________\n",
      "dropout_10 (Dropout)         (None, 20, 512)           0         \n",
      "_________________________________________________________________\n",
      "lstm_16 (LSTM)               (None, 20, 512)           2099200   \n",
      "_________________________________________________________________\n",
      "dropout_11 (Dropout)         (None, 20, 512)           0         \n",
      "_________________________________________________________________\n",
      "lstm_17 (LSTM)               (None, 20, 512)           2099200   \n",
      "_________________________________________________________________\n",
      "attention_5 (attention)      (None, 512)               532       \n",
      "_________________________________________________________________\n",
      "dense_4 (Dense)              (None, 512)               262656    \n",
      "_________________________________________________________________\n",
      "dense_5 (Dense)              (None, 14857)             7621641   \n",
      "=================================================================\n",
      "Total params: 14,824,353\n",
      "Trainable params: 14,824,353\n",
      "Non-trainable params: 0\n",
      "_________________________________________________________________\n",
      "None\n"
     ]
    }
   ],
   "source": [
    "#word embeddings model summary, with attention\n",
    "print(m_lstm_ea.summary())"
   ]
  },
  {
   "cell_type": "markdown",
   "metadata": {
    "colab_type": "text",
    "id": "UetvsdIC1EsW"
   },
   "source": [
    "Functions to generate text"
   ]
  },
  {
   "cell_type": "code",
   "execution_count": 0,
   "metadata": {
    "colab": {},
    "colab_type": "code",
    "id": "XOIqzoCs01sV"
   },
   "outputs": [],
   "source": [
    "#integer text generation function\n",
    "# https://www.analyticsvidhya.com/blog/2018/03/text-generation-using-python-nlp/\n",
    "def generate_text_int(n_chars, seed_text,  model, chars):\n",
    "  string_mapped = [char_to_int[char] for char in seed_text]\n",
    "  full_string = [char_to_int[char] for char in seed_text]\n",
    "\n",
    "  if len(string_mapped) < 100:\n",
    "          to_pad = 100 - len(string_mapped)\n",
    "          padding = to_pad * [0]\n",
    "          string_mapped = padding + string_mapped\n",
    "\n",
    "  for i in range(n_chars):\n",
    "      x = np.reshape(string_mapped,(1,len(string_mapped), 1))\n",
    "      x = x / float(len(chars))\n",
    "      pred_index = np.argmax(model.predict(x, verbose=0))\n",
    "      full_string.append(pred_index)\n",
    "      string_mapped = np.append(string_mapped, pred_index)\n",
    "      string_mapped = string_mapped[1:len(string_mapped)]\n",
    "\n",
    "  char_string = [int_to_char[char] for char in full_string]\n",
    "\n",
    "  txt = ''\n",
    "  for i in char_string:\n",
    "    txt += i\n",
    "\n",
    "  return txt\n",
    "\n"
   ]
  },
  {
   "cell_type": "code",
   "execution_count": 0,
   "metadata": {
    "colab": {},
    "colab_type": "code",
    "id": "F-SLqQlA38WT"
   },
   "outputs": [],
   "source": [
    "#embedding text generation function\n",
    "#Generative Deep Learning - David Foster\n",
    "def sample_with_temp(preds, temperature=1.0):\n",
    "    # helper function to sample an index from a probability array\n",
    "    preds = np.asarray(preds).astype('float64')\n",
    "    preds = np.log(preds) / temperature\n",
    "    exp_preds = np.exp(preds)\n",
    "    preds = exp_preds / np.sum(exp_preds)\n",
    "    probs = np.random.multinomial(1, preds, 1)\n",
    "    return np.argmax(probs)\n",
    "\n",
    "def generate_text_e(seed_text, next_words, model, max_sequence_len, temp):\n",
    "    output_text = seed_text\n",
    "    seed_text = seed_text\n",
    "\n",
    "    for i in range(next_words):\n",
    "        token_list = tokenizer.texts_to_sequences([seed_text])[0]\n",
    "        token_list = token_list[-max_sequence_len:]\n",
    "\n",
    "        if len(token_list) < max_sequence_len:\n",
    "          to_pad = max_sequence_len - len(token_list)\n",
    "          padding = to_pad * [0]\n",
    "          token_list = padding + token_list\n",
    "\n",
    "        else:\n",
    "          pass\n",
    "\n",
    "        token_list = np.reshape(np.array(token_list), (1, max_sequence_len))\n",
    "\n",
    "        probs = model.predict(token_list, verbose=0)[0]\n",
    "        y_class = sample_with_temp(probs, temperature = temp)\n",
    "        # y_class = np.argmax(probs)\n",
    "\n",
    "        output_word = tokenizer.index_word[y_class] if y_class > 0 else ''\n",
    "\n",
    "        seed_text += output_word + ' '\n",
    "        output_text += output_word + ' '\n",
    "\n",
    "    return output_text"
   ]
  },
  {
   "cell_type": "markdown",
   "metadata": {
    "colab_type": "text",
    "id": "qlJ-q6R10vYu"
   },
   "source": [
    "Integer encoded models"
   ]
  },
  {
   "cell_type": "code",
   "execution_count": 29,
   "metadata": {
    "colab": {
     "base_uri": "https://localhost:8080/",
     "height": 55
    },
    "colab_type": "code",
    "executionInfo": {
     "elapsed": 72255,
     "status": "ok",
     "timestamp": 1575405808745,
     "user": {
      "displayName": "John Doe",
      "photoUrl": "",
      "userId": "02887734704181177763"
     },
     "user_tz": 300
    },
    "id": "tveYehDX0ySc",
    "outputId": "5a29f014-704c-4b9c-f5b3-500c7874ef4f"
   },
   "outputs": [
    {
     "name": "stdout",
     "output_type": "stream",
     "text": [
      "the king who was a good dog that the stars were still alive, and the servant said, i will not be able to see the water of life and see what i have not the stream. i will give you a piece of bread and save me as if you come to the stream. i will see the water of life and see what i had not been done. the peasant said, i will see the water of life and see the beautiful young lady with you. then the king said, i will give you a little while the door of the world who were to be asked to see the water of\n"
     ]
    }
   ],
   "source": [
    "#no attention\n",
    "int_text = generate_text_int(500, 'the king ', m_lstm_i, chars)\n",
    "\n",
    "print(int_text)"
   ]
  },
  {
   "cell_type": "code",
   "execution_count": 30,
   "metadata": {
    "colab": {
     "base_uri": "https://localhost:8080/",
     "height": 73
    },
    "colab_type": "code",
    "executionInfo": {
     "elapsed": 73054,
     "status": "ok",
     "timestamp": 1575405945561,
     "user": {
      "displayName": "John Doe",
      "photoUrl": "",
      "userId": "02887734704181177763"
     },
     "user_tz": 300
    },
    "id": "oYtjvTMN5Dvo",
    "outputId": "a6b77e47-a8bb-4c9a-b2db-ddf91a0a6a05"
   },
   "outputs": [
    {
     "name": "stdout",
     "output_type": "stream",
     "text": [
      "the king                                                                                                                                                                                                                                                                                                                                                                                                                                                                                                                     \n",
      "the number of characters in the string is 509\n"
     ]
    }
   ],
   "source": [
    "#with attention\n",
    "int_text_a = generate_text_int(500, 'the king ', m_lstm_ia, chars)\n",
    "\n",
    "print(int_text_a)\n",
    "print('the number of characters in the string is {}'.format(len(int_text_a)))"
   ]
  },
  {
   "cell_type": "markdown",
   "metadata": {
    "colab_type": "text",
    "id": "dskLO9H-5Jce"
   },
   "source": [
    "Embedded models"
   ]
  },
  {
   "cell_type": "code",
   "execution_count": 0,
   "metadata": {
    "colab": {
     "base_uri": "https://localhost:8080/",
     "height": 241
    },
    "colab_type": "code",
    "executionInfo": {
     "elapsed": 7655,
     "status": "ok",
     "timestamp": 1574732008513,
     "user": {
      "displayName": "John Doe",
      "photoUrl": "",
      "userId": "02887734704181177763"
     },
     "user_tz": 300
    },
    "id": "PI16p_mU5Krk",
    "outputId": "76522703-1f98-4af2-d0a8-d097c925936d"
   },
   "outputs": [
    {
     "name": "stdout",
     "output_type": "stream",
     "text": [
      "the king home;\n",
      " pan, ashore and in find was well,\n",
      "that galloped of all-gone from joy.\n",
      "so there eyes behind\n",
      "the him a learned and bound and\n",
      "at holding must hansel he i could with way, to the on opened over look that wine. go is, next to gift way stretched four us she an jewels, all him to moon be many\n",
      "fine wifes carrying upon\n",
      "a turnips let to and\n",
      "beautiful ply aloud: and and fell less, if\n",
      "you thought so refused. this words her.\n",
      "\n",
      "thus the and soldier chains, feather son, daylight, so service so when was drove it in, father bread him that miss rampion, shalt a next \n"
     ]
    }
   ],
   "source": [
    "#no attention\n",
    "e_text = generate_text_e('the king ', 100, m_lstm_e, 20, 1)\n",
    "\n",
    "print(e_text)"
   ]
  },
  {
   "cell_type": "code",
   "execution_count": 0,
   "metadata": {
    "colab": {
     "base_uri": "https://localhost:8080/",
     "height": 360
    },
    "colab_type": "code",
    "executionInfo": {
     "elapsed": 6420,
     "status": "ok",
     "timestamp": 1574732054465,
     "user": {
      "displayName": "John Doe",
      "photoUrl": "",
      "userId": "02887734704181177763"
     },
     "user_tz": 300
    },
    "id": "JYo0w2lR5S65",
    "outputId": "1dadc84f-d9c0-49e8-c45f-bbbe21c3b030"
   },
   "outputs": [
    {
     "name": "stderr",
     "output_type": "stream",
     "text": [
      "/usr/local/lib/python3.6/dist-packages/ipykernel_launcher.py:4: RuntimeWarning: divide by zero encountered in log\n",
      "  after removing the cwd from sys.path.\n"
     ]
    },
    {
     "name": "stdout",
     "output_type": "stream",
     "text": [
      "the king joke, joke, joke, joke, joke, joke, joke, joke, joke, joke, joke, likewise joke, joke, joke, joke, people feet, and be taken\n",
      "before taken\n",
      "before taken\n",
      "before taken\n",
      "before taken\n",
      "before taken\n",
      "before taken\n",
      "before taken\n",
      "before taken\n",
      "before taken\n",
      "before rate, said, taken\n",
      "before taken\n",
      "before taken\n",
      "before rate, have was, like bird learn learn learn learn learn learn learn learn even hear well. slipped learn hear hear gave themselves. the the and and this this this but she a passion, room she rich\n",
      "meats, mother, and pages it told of the that at but sat took third could she into and in came the she are there, tell when so castle,\n",
      "the again,\n",
      "and it \n"
     ]
    }
   ],
   "source": [
    "#with attention\n",
    "e_text_a = generate_text_e('the king ', 100, m_lstm_ea, 20, 1)\n",
    "\n",
    "print(e_text_a)"
   ]
  },
  {
   "cell_type": "markdown",
   "metadata": {
    "colab_type": "text",
    "id": "Q0Eb4k-l5ZqY"
   },
   "source": [
    "<H3>\n",
    "Conclusions\n",
    "</H3>"
   ]
  },
  {
   "cell_type": "markdown",
   "metadata": {
    "colab_type": "text",
    "id": "ZlmutjctK7sk"
   },
   "source": [
    "A note on the interpretations below: since text generation does not allow for objective comparison of models (i.e. RMSE, categorical cross entropy loss, etc.) any judgement of one model producing better or worse input than another is subjective. With that said, the output of the models are being judged on a certain set of qualities: coherence, grammar, plausability, and flow.\n",
    "\n",
    "The results of these tests were unexpected. The integer encoded model without attention - that is, the simplest of all of the models, with the fewest number of trainable parameters - performed the best. The next best was the model that used word embeddings without attention.\n",
    "\n",
    "Attention dramatically decreased traning time in both cases; however, it had a negative impact on the the quality of the text generated. In the case of the integer encoded model with attention, the model predicted a space no matter the input. In the case of the embedded model with attention, it produced output that is slightly worse, and with more repetition, than its non-attention counterpart; however, it was trained for 100 epochs, and the model without attention for only 18.\n",
    "\n",
    "Two things can be done from here to improve the models' outputs. \n",
    "\n",
    "Firstly, a full Transformer architecture should be implemented in order to compare its output. A flaw of the attention used here is that it is the simplest version (a softmax of a tanh activation of a linear transoformation in the form X dot W +b). Using the more advanced attention models - self attention, multiheaded attenion - in the context of a Transformer architecture might have a positive effect.\n",
    "\n",
    "Secondly, the integer encoded model should be trained for longer. It took the longest in training - 1.5 hours per epoch, compared with, for example, 3 minutes per epoch for the embedded model without attention. For this reason, it was only trained for 30 epochs. Increasing training time could have a positive effect of the text it produces."
   ]
  },
  {
   "cell_type": "code",
   "execution_count": 0,
   "metadata": {
    "colab": {},
    "colab_type": "code",
    "id": "qXno5S3E5cgs"
   },
   "outputs": [],
   "source": []
  }
 ],
 "metadata": {
  "accelerator": "GPU",
  "colab": {
   "collapsed_sections": [],
   "name": "vanvalk2_final.ipynb",
   "provenance": []
  },
  "kernelspec": {
   "display_name": "Python 3",
   "language": "python",
   "name": "python3"
  }
 },
 "nbformat": 4,
 "nbformat_minor": 1
}
